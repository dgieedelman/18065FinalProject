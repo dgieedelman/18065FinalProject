{
 "cells": [
  {
   "cell_type": "code",
   "execution_count": 2,
   "metadata": {},
   "outputs": [],
   "source": [
    "using LinearAlgebra\n"
   ]
  },
  {
   "cell_type": "code",
   "execution_count": 3,
   "metadata": {},
   "outputs": [
    {
     "data": {
      "text/plain": [
       "buildIso (generic function with 1 method)"
      ]
     },
     "execution_count": 3,
     "metadata": {},
     "output_type": "execute_result"
    }
   ],
   "source": [
    "function buildIso(n) #creates an isocles triangle\n",
    "    A = fill(0,n,2n-1) #creates an empty matrix\n",
    "    for i = 1:n\n",
    "        for j=n-i+1:n+i-1 #fills the row with the\n",
    "            A[i,j]=1      #appropiate amount of ones\n",
    "        end\n",
    "    end\n",
    "    return A #retunrs matrix\n",
    "end \n"
   ]
  },
  {
   "cell_type": "code",
   "execution_count": 3,
   "metadata": {},
   "outputs": [
    {
     "data": {
      "text/plain": [
       "10×19 Array{Int64,2}:\n",
       " 0  0  0  0  0  0  0  0  0  1  0  0  0  0  0  0  0  0  0\n",
       " 0  0  0  0  0  0  0  0  1  1  1  0  0  0  0  0  0  0  0\n",
       " 0  0  0  0  0  0  0  1  1  1  1  1  0  0  0  0  0  0  0\n",
       " 0  0  0  0  0  0  1  1  1  1  1  1  1  0  0  0  0  0  0\n",
       " 0  0  0  0  0  1  1  1  1  1  1  1  1  1  0  0  0  0  0\n",
       " 0  0  0  0  1  1  1  1  1  1  1  1  1  1  1  0  0  0  0\n",
       " 0  0  0  1  1  1  1  1  1  1  1  1  1  1  1  1  0  0  0\n",
       " 0  0  1  1  1  1  1  1  1  1  1  1  1  1  1  1  1  0  0\n",
       " 0  1  1  1  1  1  1  1  1  1  1  1  1  1  1  1  1  1  0\n",
       " 1  1  1  1  1  1  1  1  1  1  1  1  1  1  1  1  1  1  1"
      ]
     },
     "execution_count": 3,
     "metadata": {},
     "output_type": "execute_result"
    }
   ],
   "source": [
    "A=buildIso(10)"
   ]
  },
  {
   "cell_type": "code",
   "execution_count": 3,
   "metadata": {},
   "outputs": [
    {
     "data": {
      "text/plain": [
       "10×10 Array{Float64,2}:\n",
       "  1.5  -0.5   0.0  -0.0   0.0  -0.0   0.0  -0.0   0.0  -0.0\n",
       " -0.5   1.0  -0.5  -0.0   0.0  -0.0   0.0  -0.0   0.0  -0.0\n",
       "  0.0  -0.5   1.0  -0.5   0.0  -0.0   0.0  -0.0   0.0  -0.0\n",
       "  0.0   0.0  -0.5   1.0  -0.5  -0.0   0.0  -0.0   0.0  -0.0\n",
       "  0.0   0.0   0.0  -0.5   1.0  -0.5   0.0  -0.0   0.0  -0.0\n",
       "  0.0   0.0   0.0   0.0  -0.5   1.0  -0.5  -0.0   0.0  -0.0\n",
       "  0.0   0.0   0.0   0.0   0.0  -0.5   1.0  -0.5   0.0  -0.0\n",
       "  0.0   0.0   0.0   0.0   0.0   0.0  -0.5   1.0  -0.5  -0.0\n",
       "  0.0   0.0   0.0   0.0   0.0   0.0   0.0  -0.5   1.0  -0.5\n",
       "  0.0   0.0   0.0   0.0   0.0   0.0   0.0   0.0  -0.5   0.5"
      ]
     },
     "execution_count": 3,
     "metadata": {},
     "output_type": "execute_result"
    }
   ],
   "source": [
    "B=inv(A*A')"
   ]
  },
  {
   "cell_type": "code",
   "execution_count": null,
   "metadata": {},
   "outputs": [],
   "source": []
  },
  {
   "cell_type": "code",
   "execution_count": null,
   "metadata": {},
   "outputs": [],
   "source": []
  },
  {
   "cell_type": "code",
   "execution_count": 5,
   "metadata": {},
   "outputs": [
    {
     "name": "stdout",
     "output_type": "stream",
     "text": [
      "0.0005804113582144055\n",
      "0.0005792551610284136\n",
      "0.0005781035624750075\n",
      "0.0005769565295850043\n",
      "0.0005758140416673996\n",
      "0.0005746760677993734\n",
      "0.0005735425838793162\n",
      "0.0005724135614855186\n",
      "0.0005712889746973815\n",
      "0.0005701688021417795\n"
     ]
    }
   ],
   "source": [
    "for n in 501:510\n",
    "    A=buildIso(n)\n",
    "    #B=inv(A*A')\n",
    "    #println(sqrt.(1 ./svdvals(B)))\n",
    "    println(svdvals(A)[1]*π-(sqrt(8)*n))\n",
    "end"
   ]
  },
  {
   "cell_type": "markdown",
   "metadata": {},
   "source": [
    "For an isocles triangle its sqrt(8)*n/Pi.\n",
    "\n",
    "area = n * (2n-1) / 2"
   ]
  },
  {
   "cell_type": "code",
   "execution_count": 2,
   "metadata": {},
   "outputs": [
    {
     "data": {
      "text/plain": [
       "0.4501581580785531"
      ]
     },
     "execution_count": 2,
     "metadata": {},
     "output_type": "execute_result"
    }
   ],
   "source": [
    "sqrt(2)/(pi)"
   ]
  },
  {
   "cell_type": "code",
   "execution_count": 5,
   "metadata": {},
   "outputs": [
    {
     "data": {
      "text/plain": [
       "0.042316755694951164"
      ]
     },
     "execution_count": 5,
     "metadata": {},
     "output_type": "execute_result"
    }
   ],
   "source": []
  },
  {
   "cell_type": "code",
   "execution_count": null,
   "metadata": {},
   "outputs": [],
   "source": []
  }
 ],
 "metadata": {
  "kernelspec": {
   "display_name": "Julia 1.1.0",
   "language": "julia",
   "name": "julia-1.1"
  },
  "language_info": {
   "file_extension": ".jl",
   "mimetype": "application/julia",
   "name": "julia",
   "version": "1.1.0"
  }
 },
 "nbformat": 4,
 "nbformat_minor": 2
}
